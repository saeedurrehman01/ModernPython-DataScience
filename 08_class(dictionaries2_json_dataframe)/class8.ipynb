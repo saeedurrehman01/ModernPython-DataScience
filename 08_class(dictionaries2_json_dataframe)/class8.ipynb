{
 "cells": [
  {
   "cell_type": "code",
   "execution_count": 1,
   "metadata": {},
   "outputs": [
    {
     "name": "stdout",
     "output_type": "stream",
     "text": [
      "Key is not present in dictionary\n"
     ]
    }
   ],
   "source": [
    "from typing import Dict, Union,Optional\n",
    "import pprint\n",
    "\n",
    "Key = Union[int,str] # create custom type\n",
    "Value = Union[int,str,list,dict,tuple,set] # create custom type\n",
    "\n",
    "data : Dict[Key,Value] = {\"FName\":\"Muhammad Aslam\",\n",
    "                        \"Name\": \"Muhammad Qasim\",\n",
    "                        \"Education\":\"MSDS\",\n",
    "                        \"Age\": 25,}\n",
    "\n",
    "print(data.get('Pakistan',\"Key is not present in dictionary\"))"
   ]
  },
  {
   "cell_type": "code",
   "execution_count": 9,
   "metadata": {},
   "outputs": [
    {
     "name": "stdout",
     "output_type": "stream",
     "text": [
      "FName : Muhammad Aslam\n",
      "Name : Muhammad Qasim\n",
      "Education : MSDS\n",
      "Age : 25\n"
     ]
    },
    {
     "data": {
      "text/plain": [
       "{'Muhammad Aslam': 'FName',\n",
       " 'Muhammad Qasim': 'Name',\n",
       " 'MSDS': 'Education',\n",
       " 25: 'Age'}"
      ]
     },
     "execution_count": 9,
     "metadata": {},
     "output_type": "execute_result"
    }
   ],
   "source": [
    "from typing import Dict, Union,Optional\n",
    "import pprint\n",
    "\n",
    "Key = Union[int,str] # create custom type\n",
    "Value = Union[int,str,list,dict,tuple,set] # create custom type\n",
    "\n",
    "data : Dict[Key,Value] = {\"FName\":\"Muhammad Aslam\",\n",
    "                        \"Name\": \"Muhammad Qasim\",\n",
    "                        \"Education\":\"MSDS\",\n",
    "                        \"Age\": 25,}\n",
    "\n",
    "for k,v in data.items():\n",
    "    print(k, \":\", v)\n",
    "\n",
    "{v:k for k,v in data.items()}"
   ]
  },
  {
   "cell_type": "code",
   "execution_count": 11,
   "metadata": {},
   "outputs": [
    {
     "name": "stdout",
     "output_type": "stream",
     "text": [
      "{'a': 1, 'b': 2}\n",
      "['clear', 'copy', 'fromkeys', 'get', 'items', 'keys', 'pop', 'popitem', 'setdefault', 'update', 'values']\n"
     ]
    }
   ],
   "source": [
    "from typing import Dict, Union,Optional,Any\n",
    "import pprint\n",
    "\n",
    "Key = Union[int,str] # create custom type\n",
    "\n",
    "Value = Union[int,str,list,dict,tuple,set] # create custom type\n",
    "\n",
    "data : Dict[Key,Value] = {\"FName\":\"Muhammad Aslam\",\n",
    "                        \"Name\": \"Muhammad Qasim\",\n",
    "                        \"Education\":\"MSDS\",\n",
    "                        \"Age\": 25,\n",
    "                        \"abc\" : [1,2,3],\n",
    "                        \"xyz\" : {1,2,3},\n",
    "                        \"efg\" : (1,2,3),\n",
    "                        \"asd\" : {\"a\" : 1, \"b\" : 2}\n",
    "                        #[1,2,3] : \"Pakistan\", # error\n",
    "                        }\n",
    "\n",
    "print(data[\"asd\"])\n",
    "\n",
    "methods : list[str] = [m for m in dir(data) if \"__\" not in m]\n",
    "print(methods)"
   ]
  },
  {
   "cell_type": "code",
   "execution_count": 12,
   "metadata": {},
   "outputs": [
    {
     "name": "stdout",
     "output_type": "stream",
     "text": [
      "Before {'FName': 'Muhammad Aslam', 'Name': 'Muhammad Qasim', 'Education': 'MSDS', 'Age': 25, 'abc': [1, 2, 3], 'xyz': {1, 2, 3}, 'efg': (1, 2, 3), 'asd': {'a': 1, 'b': 2}}\n",
      "After {}\n",
      "['clear', 'copy', 'fromkeys', 'get', 'items', 'keys', 'pop', 'popitem', 'setdefault', 'update', 'values']\n"
     ]
    }
   ],
   "source": [
    "from typing import Dict, Union,Optional,Any\n",
    "import pprint\n",
    "\n",
    "Key = Union[int,str] # create custom type\n",
    "\n",
    "Value = Union[int,str,list,dict,tuple,set] # create custom type\n",
    "\n",
    "data : Dict[Key,Value] = {\"FName\":\"Muhammad Aslam\",\n",
    "                        \"Name\": \"Muhammad Qasim\",\n",
    "                        \"Education\":\"MSDS\",\n",
    "                        \"Age\": 25,\n",
    "                        \"abc\" : [1,2,3],\n",
    "                        \"xyz\" : {1,2,3},\n",
    "                        \"efg\" : (1,2,3),\n",
    "                        \"asd\" : {\"a\" : 1, \"b\" : 2}\n",
    "                        #[1,2,3] : \"Pakistan\", # error\n",
    "                        }\n",
    "\n",
    "print(\"Before\", data)\n",
    "data.clear()\n",
    "[print(\"After\", data)]\n"
   ]
  },
  {
   "cell_type": "code",
   "execution_count": 13,
   "metadata": {},
   "outputs": [
    {
     "name": "stdout",
     "output_type": "stream",
     "text": [
      "Before {'FName': 'Muhammad Aslam', 'Name': 'Muhammad Qasim', 'Education': 'MSDS', 'Age': 25, 'abc': [1, 2, 3], 'xyz': {1, 2, 3}, 'efg': (1, 2, 3), 'asd': {'a': 1, 'b': 2}}\n",
      "MSDS\n",
      "After {'FName': 'Muhammad Aslam', 'Name': 'Muhammad Qasim', 'Age': 25, 'abc': [1, 2, 3], 'xyz': {1, 2, 3}, 'efg': (1, 2, 3), 'asd': {'a': 1, 'b': 2}}\n"
     ]
    },
    {
     "data": {
      "text/plain": [
       "[None]"
      ]
     },
     "execution_count": 13,
     "metadata": {},
     "output_type": "execute_result"
    }
   ],
   "source": [
    "from typing import Dict, Union,Optional,Any\n",
    "import pprint\n",
    "\n",
    "Key = Union[int,str] # create custom type\n",
    "\n",
    "Value = Union[int,str,list,dict,tuple,set] # create custom type\n",
    "\n",
    "data : Dict[Key,Value] = {\"FName\":\"Muhammad Aslam\",\n",
    "                        \"Name\": \"Muhammad Qasim\",\n",
    "                        \"Education\":\"MSDS\",\n",
    "                        \"Age\": 25,\n",
    "                        \"abc\" : [1,2,3],\n",
    "                        \"xyz\" : {1,2,3},\n",
    "                        \"efg\" : (1,2,3),\n",
    "                        \"asd\" : {\"a\" : 1, \"b\" : 2}\n",
    "                        #[1,2,3] : \"Pakistan\", # error\n",
    "                        }\n",
    "\n",
    "print(\"Before\", data)\n",
    "a : str = data.pop(\"Education\")\n",
    "print(a)\n",
    "[print(\"After\", data)]\n"
   ]
  },
  {
   "cell_type": "code",
   "execution_count": 14,
   "metadata": {},
   "outputs": [
    {
     "name": "stdout",
     "output_type": "stream",
     "text": [
      "Before {'FName': 'Muhammad Aslam', 'Name': 'Muhammad Qasim', 'Education': 'MSDS', 'Age': 25, 'abc': [1, 2, 3], 'xyz': {1, 2, 3}, 'efg': (1, 2, 3), 'asd': {'a': 1, 'b': 2}}\n",
      "('asd', {'a': 1, 'b': 2})\n",
      "After {'FName': 'Muhammad Aslam', 'Name': 'Muhammad Qasim', 'Education': 'MSDS', 'Age': 25, 'abc': [1, 2, 3], 'xyz': {1, 2, 3}, 'efg': (1, 2, 3)}\n"
     ]
    },
    {
     "data": {
      "text/plain": [
       "[None]"
      ]
     },
     "execution_count": 14,
     "metadata": {},
     "output_type": "execute_result"
    }
   ],
   "source": [
    "from typing import Dict, Union,Optional,Any\n",
    "import pprint\n",
    "\n",
    "Key = Union[int,str] # create custom type\n",
    "\n",
    "Value = Union[int,str,list,dict,tuple,set] # create custom type\n",
    "\n",
    "data : Dict[Key,Value] = {\"FName\":\"Muhammad Aslam\",\n",
    "                        \"Name\": \"Muhammad Qasim\",\n",
    "                        \"Education\":\"MSDS\",\n",
    "                        \"Age\": 25,\n",
    "                        \"abc\" : [1,2,3],\n",
    "                        \"xyz\" : {1,2,3},\n",
    "                        \"efg\" : (1,2,3),\n",
    "                        \"asd\" : {\"a\" : 1, \"b\" : 2}\n",
    "                        #[1,2,3] : \"Pakistan\", # error\n",
    "                        }\n",
    "\n",
    "print(\"Before\", data)\n",
    "a : str = data.popitem() # Removes the last item\n",
    "print(a)\n",
    "[print(\"After\", data)]\n"
   ]
  },
  {
   "cell_type": "code",
   "execution_count": 16,
   "metadata": {},
   "outputs": [
    {
     "name": "stdout",
     "output_type": "stream",
     "text": [
      "Before {'FName': 'Muhammad Aslam', 'Name': 'Muhammad Qasim', 'Education': 'MSDS', 'Age': 25}\n",
      "Eroor\n",
      "After {'FName': 'Muhammad Aslam', 'Name': 'Muhammad Qasim', 'Education': 'MSDS', 'Age': 25}\n"
     ]
    },
    {
     "data": {
      "text/plain": [
       "[None]"
      ]
     },
     "execution_count": 16,
     "metadata": {},
     "output_type": "execute_result"
    }
   ],
   "source": [
    "from typing import Dict, Union,Optional,Any\n",
    "import pprint\n",
    "\n",
    "Key = Union[int,str] # create custom type\n",
    "\n",
    "Value = Union[int,str,list,dict,tuple,set] # create custom type\n",
    "\n",
    "data : Dict[Key,Value] = {\"FName\":\"Muhammad Aslam\",\n",
    "                        \"Name\": \"Muhammad Qasim\",\n",
    "                        \"Education\":\"MSDS\",\n",
    "                        \"Age\": 25,\n",
    "                        }\n",
    "\n",
    "print(\"Before\", data)\n",
    "a : str = data.get(\"Pakistan\",\"Eroor\") # Removes the last item\n",
    "print(a)\n",
    "[print(\"After\", data)]\n"
   ]
  },
  {
   "cell_type": "code",
   "execution_count": 18,
   "metadata": {},
   "outputs": [
    {
     "name": "stdout",
     "output_type": "stream",
     "text": [
      "Before {'FName': 'Muhammad Aslam', 'Name': 'Muhammad Qasim', 'Education': 'MSDS', 'Age': 25}\n",
      "Empty Value\n",
      "After {'FName': 'Muhammad Aslam', 'Name': 'Muhammad Qasim', 'Education': 'MSDS', 'Age': 25, 'Pakistan': 'Empty Value'}\n"
     ]
    },
    {
     "data": {
      "text/plain": [
       "[None]"
      ]
     },
     "execution_count": 18,
     "metadata": {},
     "output_type": "execute_result"
    }
   ],
   "source": [
    "from typing import Dict, Union,Optional,Any\n",
    "import pprint\n",
    "\n",
    "Key = Union[int,str] # create custom type\n",
    "\n",
    "Value = Union[int,str,list,dict,tuple,set] # create custom type\n",
    "\n",
    "data : Dict[Key,Value] = {\"FName\":\"Muhammad Aslam\",\n",
    "                        \"Name\": \"Muhammad Qasim\",\n",
    "                        \"Education\":\"MSDS\",\n",
    "                        \"Age\": 25,\n",
    "                        }\n",
    "\n",
    "print(\"Before\", data)\n",
    "a : str = data.setdefault(\"Pakistan\",\"Empty Value\") # Removes the last item\n",
    "print(a)\n",
    "[print(\"After\", data)]\n"
   ]
  },
  {
   "cell_type": "code",
   "execution_count": 22,
   "metadata": {},
   "outputs": [
    {
     "name": "stdout",
     "output_type": "stream",
     "text": [
      "{'FName': 'Muhammad Aslam', 'Name': 'M. Qasim', 'Education': 'MSDS', 'Age': 25, 'age': 30, 'Height': '5.8ft'}\n"
     ]
    }
   ],
   "source": [
    "d1 : Dict[Key,Value]\n",
    "\n",
    "data : Dict[Key,Value] = {\"FName\":\"Muhammad Aslam\",\n",
    "                        \"Name\": \"Muhammad Qasim\",\n",
    "                        \"Education\":\"MSDS\",\n",
    "                        \"Age\": 25,\n",
    "                        }\n",
    "\n",
    "data1 : Dict[Key,Value] = {\"Name\":\"M. Qasim\",\n",
    "                           \"age\": 30,\n",
    "                           \"Height\": \"5.8ft\"}\n",
    "\n",
    "data.update(data1)\n",
    "\n",
    "print(data)"
   ]
  },
  {
   "cell_type": "code",
   "execution_count": 24,
   "metadata": {},
   "outputs": [
    {
     "data": {
      "text/html": [
       "<div>\n",
       "<style scoped>\n",
       "    .dataframe tbody tr th:only-of-type {\n",
       "        vertical-align: middle;\n",
       "    }\n",
       "\n",
       "    .dataframe tbody tr th {\n",
       "        vertical-align: top;\n",
       "    }\n",
       "\n",
       "    .dataframe thead th {\n",
       "        text-align: right;\n",
       "    }\n",
       "</style>\n",
       "<table border=\"1\" class=\"dataframe\">\n",
       "  <thead>\n",
       "    <tr style=\"text-align: right;\">\n",
       "      <th></th>\n",
       "      <th>Roll No</th>\n",
       "      <th>Name</th>\n",
       "      <th>Education</th>\n",
       "    </tr>\n",
       "  </thead>\n",
       "  <tbody>\n",
       "    <tr>\n",
       "      <th>0</th>\n",
       "      <td>1</td>\n",
       "      <td>Sir Zia</td>\n",
       "      <td>P.hD</td>\n",
       "    </tr>\n",
       "    <tr>\n",
       "      <th>1</th>\n",
       "      <td>2</td>\n",
       "      <td>Sir Inam</td>\n",
       "      <td>Masters</td>\n",
       "    </tr>\n",
       "    <tr>\n",
       "      <th>2</th>\n",
       "      <td>3</td>\n",
       "      <td>Muhammad Qasim</td>\n",
       "      <td>Masters</td>\n",
       "    </tr>\n",
       "  </tbody>\n",
       "</table>\n",
       "</div>"
      ],
      "text/plain": [
       "   Roll No            Name Education\n",
       "0        1         Sir Zia      P.hD\n",
       "1        2        Sir Inam   Masters\n",
       "2        3  Muhammad Qasim   Masters"
      ]
     },
     "execution_count": 24,
     "metadata": {},
     "output_type": "execute_result"
    }
   ],
   "source": [
    "import pandas as pd\n",
    "from typing import Any\n",
    "\n",
    "student_data : Dict[str,list[Any]] = {\n",
    "    \"Roll No\" : [1,2,3],\n",
    "    \"Name\" : [\"Sir Zia\", \"Sir Inam\", \"Muhammad Qasim\"],\n",
    "    \"Education\" : [\"P.hD\",\"Masters\",\"Masters\"]\n",
    "}\n",
    "\n",
    "df : pd.DataFrame = pd.DataFrame(student_data)\n",
    "\n",
    "df"
   ]
  },
  {
   "cell_type": "code",
   "execution_count": 28,
   "metadata": {},
   "outputs": [
    {
     "name": "stdout",
     "output_type": "stream",
     "text": [
      "Original position: 0\n",
      "New position: {'x_position': 3, 'y_position': 25, 'speed': 'fast'}\n"
     ]
    }
   ],
   "source": [
    "alien_0 = {'x_position': 0, 'y_position': 25, 'speed': 'medium'}\n",
    "print(f\"Original position: {alien_0['x_position']}\")\n",
    "# Move the alien to the right.\n",
    "# Determine how far to move the alien based on its current speed.\n",
    "alien_0['speed'] = 'fast'\n",
    "\n",
    "if alien_0['speed'] == 'slow':\n",
    "    x_increment = 1\n",
    "elif alien_0['speed'] == 'medium':\n",
    "    x_increment = 2\n",
    "else:\n",
    "# This must be a fast alien.\n",
    "    x_increment = 3\n",
    "# The new position is the old position plus the increment.\n",
    "alien_0['x_position'] += x_increment\n",
    "print(f\"New position: {alien_0}\")"
   ]
  },
  {
   "cell_type": "code",
   "execution_count": 1,
   "metadata": {},
   "outputs": [
    {
     "name": "stdout",
     "output_type": "stream",
     "text": [
      "{'FName': 'Muhammad Aslam', 'Name': 'M.Qasim', 'Education': 'MSDS', 'Age': 25}\n"
     ]
    }
   ],
   "source": [
    "from typing import Dict, Union,Optional\n",
    "import pprint\n",
    "\n",
    "Key = Union[int,str] # create custom type\n",
    "Value = Union[int,str,list,dict,tuple,set] # create custom type\n",
    "\n",
    "data : Dict[Key,Value] = {\"FName\":\"Muhammad Aslam\",\n",
    "                        \"Name\": \"Muhammad Qasim\",\n",
    "                        \"Education\":\"MSDS\",\n",
    "                        \"Age\": 25,\n",
    "                        \"Name\" : \"M.Qasim\"}\n",
    "\n",
    "print(data)"
   ]
  },
  {
   "cell_type": "code",
   "execution_count": 3,
   "metadata": {},
   "outputs": [
    {
     "name": "stdout",
     "output_type": "stream",
     "text": [
      "Sarah's favorite language is Python.\n"
     ]
    }
   ],
   "source": [
    "favorite_languages = {\n",
    "'jen': 'python',\n",
    "'sarah': 'c',\n",
    "'edward': 'rust',\n",
    "'phil': 'python',\n",
    "}\n",
    "\n",
    "language = favorite_languages['jen'].title()\n",
    "print(f\"Sarah's favorite language is {language}.\")"
   ]
  },
  {
   "cell_type": "code",
   "execution_count": 8,
   "metadata": {},
   "outputs": [
    {
     "name": "stdout",
     "output_type": "stream",
     "text": [
      "Hi Jen.\n",
      "Hi Sarah.\n",
      "\tSarah, I see you love C!\n",
      "Hi Edward.\n",
      "Hi Phil.\n",
      "\tPhil, I see you love Python!\n",
      "Erin, please take our poll!\n"
     ]
    }
   ],
   "source": [
    "favorite_languages = {\n",
    "'jen': 'python',\n",
    "'sarah': 'c',\n",
    "'edward': 'rust',\n",
    "'phil': 'python',\n",
    "}\n",
    "\n",
    "# language = favorite_languages['jen'].title()\n",
    "#  print(f\"Sarah's favorite language is {language}.\")\n",
    "\n",
    "friends = ['phil', 'sarah']\n",
    "for name in favorite_languages.keys():\n",
    "    print(f\"Hi {name.title()}.\")\n",
    "    if name in friends:\n",
    "        language = favorite_languages[name].title()\n",
    "        print(f\"\\t{name.title()}, I see you love {language}!\")\n",
    "\n",
    "if 'erin' not in favorite_languages.keys():\n",
    "    print(\"Erin, please take our poll!\")"
   ]
  },
  {
   "cell_type": "code",
   "execution_count": 9,
   "metadata": {},
   "outputs": [
    {
     "data": {
      "text/plain": [
       "True"
      ]
     },
     "execution_count": 9,
     "metadata": {},
     "output_type": "execute_result"
    }
   ],
   "source": [
    "\"Qasim\" in \"My name is Muhammad Qasim, I'm working as Chief Data Scientist!\""
   ]
  },
  {
   "cell_type": "code",
   "execution_count": 14,
   "metadata": {},
   "outputs": [
    {
     "name": "stdout",
     "output_type": "stream",
     "text": [
      "{'color': 'green', 'points': 5, 'speed': 'slow'}\n",
      "{'color': 'green', 'points': 5, 'speed': 'slow'}\n",
      "{'color': 'green', 'points': 5, 'speed': 'slow'}\n",
      "{'color': 'green', 'points': 5, 'speed': 'slow'}\n",
      "{'color': 'green', 'points': 5, 'speed': 'slow'}\n",
      "...\n",
      "Total number of aliens: 30\n"
     ]
    }
   ],
   "source": [
    "# Make an empty list for storing aliens.\n",
    "aliens = []\n",
    "# Make 30 green aliens.\n",
    "for alien_number in range(30):\n",
    "  new_alien = {'color': 'green', 'points': 5, 'speed': 'slow'}\n",
    "  aliens.append(new_alien)\n",
    "# Show the first 5 aliens.\n",
    "for alien in aliens[:5]:\n",
    "    print(alien)\n",
    "print(\"...\")\n",
    "# Show how many aliens have been created.\n",
    "print(f\"Total number of aliens: {len(aliens)}\")"
   ]
  },
  {
   "cell_type": "code",
   "execution_count": 16,
   "metadata": {},
   "outputs": [
    {
     "name": "stdout",
     "output_type": "stream",
     "text": [
      "{'color': 'yellow', 'points': 10, 'speed': 'medium'}\n",
      "{'color': 'yellow', 'points': 10, 'speed': 'medium'}\n",
      "{'color': 'yellow', 'points': 10, 'speed': 'medium'}\n",
      "{'color': 'green', 'points': 5, 'speed': 'slow'}\n",
      "{'color': 'green', 'points': 5, 'speed': 'slow'}\n",
      "...\n"
     ]
    }
   ],
   "source": [
    "for alien in aliens[:3]:\n",
    "    if alien['color'] == 'green':\n",
    "        alien['color'] = 'yellow'\n",
    "        alien['speed'] = 'medium'\n",
    "        alien['points'] = 10\n",
    "\n",
    "        # Show the first 5 aliens.\n",
    "for alien in aliens[:5]:\n",
    "    print(alien)\n",
    "print(\"...\")"
   ]
  },
  {
   "cell_type": "code",
   "execution_count": 23,
   "metadata": {},
   "outputs": [
    {
     "name": "stdout",
     "output_type": "stream",
     "text": [
      "{\n",
      "  \"FName\": \"Muhammad Aslam\",\n",
      "  \"Name\": \"Muhammad Qasim\",\n",
      "  \"Education\": \"MSDS\",\n",
      "  \"Age\": 25\n",
      "}\n",
      "<class 'str'>\n"
     ]
    }
   ],
   "source": [
    "import json\n",
    "\n",
    "data = {\n",
    "    \"FName\": \"Muhammad Aslam\",\n",
    "    \"Name\": \"Muhammad Qasim\",\n",
    "    \"Education\": \"MSDS\",\n",
    "    \"Age\": 25\n",
    "}\n",
    "\n",
    "# Convert the dictionary to a JSON-formatted string\n",
    "json_data = json.dumps(data, indent=2)\n",
    "\n",
    "print(json_data)\n",
    "print(type(json_data))"
   ]
  }
 ],
 "metadata": {
  "kernelspec": {
   "display_name": "python12",
   "language": "python",
   "name": "python3"
  },
  "language_info": {
   "codemirror_mode": {
    "name": "ipython",
    "version": 3
   },
   "file_extension": ".py",
   "mimetype": "text/x-python",
   "name": "python",
   "nbconvert_exporter": "python",
   "pygments_lexer": "ipython3",
   "version": "3.12.0"
  }
 },
 "nbformat": 4,
 "nbformat_minor": 2
}
