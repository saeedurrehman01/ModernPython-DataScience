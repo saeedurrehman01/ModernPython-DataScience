{
 "cells": [
  {
   "cell_type": "code",
   "execution_count": 1,
   "metadata": {},
   "outputs": [
    {
     "name": "stdout",
     "output_type": "stream",
     "text": [
      "Saeed\n"
     ]
    }
   ],
   "source": [
    "name: str = \"Saeed\"\n",
    "print(name)"
   ]
  },
  {
   "cell_type": "markdown",
   "metadata": {},
   "source": [
    "# String Data type in Python"
   ]
  },
  {
   "cell_type": "code",
   "execution_count": 3,
   "metadata": {},
   "outputs": [
    {
     "name": "stdout",
     "output_type": "stream",
     "text": [
      "<class 'str'>\n",
      "Muhammad Qasim\n"
     ]
    }
   ],
   "source": [
    "# boundaries\n",
    "# \"string text\". 'String text', '''String text''', \"\"\"String text\"\"\"\n",
    "\n",
    "name: str = \"Muhammad Qasim\"\n",
    "print(type(name))\n",
    "print(name)"
   ]
  },
  {
   "cell_type": "code",
   "execution_count": 4,
   "metadata": {},
   "outputs": [
    {
     "name": "stdout",
     "output_type": "stream",
     "text": [
      "<class 'str'>\n",
      "Muhammad Qasim\n"
     ]
    }
   ],
   "source": [
    "# boundaries\n",
    "# \"string text\". 'String text', '''String text''', \"\"\"String text\"\"\"\n",
    "\n",
    "name: str = 'Muhammad Qasim'\n",
    "print(type(name))\n",
    "print(name)"
   ]
  },
  {
   "cell_type": "code",
   "execution_count": 5,
   "metadata": {},
   "outputs": [
    {
     "name": "stdout",
     "output_type": "stream",
     "text": [
      "<class 'str'>\n",
      "Muhammad Qasim\n"
     ]
    }
   ],
   "source": [
    "# boundaries\n",
    "# \"string text\". 'String text', '''String text''', \"\"\"String text\"\"\"\n",
    "\n",
    "name: str = '''Muhammad Qasim'''\n",
    "print(type(name))\n",
    "print(name)"
   ]
  },
  {
   "cell_type": "code",
   "execution_count": 6,
   "metadata": {},
   "outputs": [
    {
     "name": "stdout",
     "output_type": "stream",
     "text": [
      "<class 'str'>\n",
      "Muhammad Qasim\n"
     ]
    }
   ],
   "source": [
    "# boundaries\n",
    "# \"string text\". 'String text', '''String text''', \"\"\"String text\"\"\"\n",
    "\n",
    "name: str = \"\"\"Muhammad Qasim\"\"\"\n",
    "print(type(name))\n",
    "print(name)"
   ]
  },
  {
   "cell_type": "code",
   "execution_count": 7,
   "metadata": {},
   "outputs": [
    {
     "name": "stdout",
     "output_type": "stream",
     "text": [
      "PIAIC Student Card \n",
      " Father's name\n",
      "<class 'str'>\n"
     ]
    }
   ],
   "source": [
    "message : str = '''PIAIC Student Card \\n Father's name'''\n",
    "print(message)\n",
    "print(type(message))"
   ]
  },
  {
   "cell_type": "code",
   "execution_count": 1,
   "metadata": {},
   "outputs": [
    {
     "name": "stdout",
     "output_type": "stream",
     "text": [
      "'PIAIC Student Card \n",
      " Father's name'\n",
      "<class 'str'>\n"
     ]
    }
   ],
   "source": [
    "message : str = \"'PIAIC Student Card \\n Father's name'\"\n",
    "print(message)\n",
    "print(type(message))"
   ]
  },
  {
   "cell_type": "code",
   "execution_count": 2,
   "metadata": {},
   "outputs": [
    {
     "name": "stdout",
     "output_type": "stream",
     "text": [
      "PIAIC Student Card \n",
      " Father's name\n",
      "<class 'str'>\n"
     ]
    }
   ],
   "source": [
    "# convert any special character into simple character, place \\ before character\n",
    "message : str = 'PIAIC Student Card \\n Father\\'s name'\n",
    "print(message)\n",
    "print(type(message))"
   ]
  },
  {
   "cell_type": "code",
   "execution_count": 11,
   "metadata": {},
   "outputs": [
    {
     "name": "stdout",
     "output_type": "stream",
     "text": [
      "PIAIC Student Card\n",
      "Student Name: Muhammad Qasim\n",
      "Age: 30\n",
      "Education: Masters in Data Science\n"
     ]
    }
   ],
   "source": [
    "name : str = \"Muhammad Qasim\"\n",
    "fname : str = \"Muhammad Aslam\"\n",
    "education :str = \"Masters in Data Science\"\n",
    "age : int = 30\n",
    "\n",
    "card : str = \"PIAIC Student Card\\nStudent Name: \" + name + \\\n",
    "    \"\\nAge: \" + str(age) + \"\\n\"+\\\n",
    "    \"Education: \" + education\n",
    "\n",
    "print(card)"
   ]
  },
  {
   "cell_type": "markdown",
   "metadata": {},
   "source": [
    "## Defind multiline string ''' ''', \"\"\" \"\"\""
   ]
  },
  {
   "cell_type": "code",
   "execution_count": 15,
   "metadata": {},
   "outputs": [
    {
     "name": "stdout",
     "output_type": "stream",
     "text": [
      "\n",
      "PIAIC Studen Card\n",
      "Student Name : Muhammad Qasim\n",
      "Father's Name : Muhammad Aslam\n",
      "Age : 30\n",
      "Education : Masters in Data Science\n"
     ]
    }
   ],
   "source": [
    "name : str = \"Muhammad Qasim\"\n",
    "fname : str = \"Muhammad Aslam\"\n",
    "education :str = \"Masters in Data Science\"\n",
    "age : int = 30\n",
    "\n",
    "card : str = f'''\n",
    "PIAIC Studen Card\n",
    "Student Name : {name}\n",
    "Father's Name : {fname}\n",
    "Age : {age}\n",
    "Education : {education}'''\n",
    "\n",
    "print(card)"
   ]
  },
  {
   "cell_type": "markdown",
   "metadata": {},
   "source": [
    "# \\ means line continues"
   ]
  },
  {
   "cell_type": "code",
   "execution_count": 16,
   "metadata": {},
   "outputs": [
    {
     "name": "stdout",
     "output_type": "stream",
     "text": [
      "17\n",
      "17\n"
     ]
    }
   ],
   "source": [
    "print(7 + 8 +2)\n",
    "# OR\n",
    "print(7 + \\\n",
    "      8 + \\\n",
    "        2)"
   ]
  },
  {
   "cell_type": "markdown",
   "metadata": {},
   "source": [
    "# F-String and Jinja Style"
   ]
  },
  {
   "cell_type": "code",
   "execution_count": null,
   "metadata": {},
   "outputs": [],
   "source": [
    "# Jinja Style\n",
    "\"\"\"\n",
    "student name {{name}}\n",
    "\"\"\""
   ]
  },
  {
   "cell_type": "code",
   "execution_count": 17,
   "metadata": {},
   "outputs": [
    {
     "data": {
      "text/plain": [
       "'\\nstudent name Muhammad Qasim\\n'"
      ]
     },
     "execution_count": 17,
     "metadata": {},
     "output_type": "execute_result"
    }
   ],
   "source": [
    "# F-string\n",
    "f\"\"\"\n",
    "student name {name}\n",
    "\"\"\""
   ]
  },
  {
   "cell_type": "code",
   "execution_count": 18,
   "metadata": {},
   "outputs": [
    {
     "name": "stdout",
     "output_type": "stream",
     "text": [
      "\n",
      "PIAIC Studen Card\n",
      "Student Name : Muhammad Qasim\n",
      "Father's Name : Muhammad Aslam\n",
      "Age : 30\n",
      "Education : Masters in Data Science\n",
      "\n"
     ]
    }
   ],
   "source": [
    "# Old coding style\n",
    "name : str = \"Muhammad Qasim\"\n",
    "fname : str = \"Muhammad Aslam\"\n",
    "education :str = \"Masters in Data Science\"\n",
    "age : int = 30\n",
    "\n",
    "card : str = f'''\n",
    "PIAIC Studen Card\n",
    "Student Name : %s\n",
    "Father's Name : %s\n",
    "Age : %d\n",
    "Education : %s\n",
    "''' % (name,fname,age,education)\n",
    "print(card)"
   ]
  },
  {
   "cell_type": "code",
   "execution_count": 19,
   "metadata": {},
   "outputs": [
    {
     "data": {
      "text/plain": [
       "['capitalize',\n",
       " 'casefold',\n",
       " 'center',\n",
       " 'count',\n",
       " 'encode',\n",
       " 'endswith',\n",
       " 'expandtabs',\n",
       " 'find',\n",
       " 'format',\n",
       " 'format_map',\n",
       " 'index',\n",
       " 'isalnum',\n",
       " 'isalpha',\n",
       " 'isascii',\n",
       " 'isdecimal',\n",
       " 'isdigit',\n",
       " 'isidentifier',\n",
       " 'islower',\n",
       " 'isnumeric',\n",
       " 'isprintable',\n",
       " 'isspace',\n",
       " 'istitle',\n",
       " 'isupper',\n",
       " 'join',\n",
       " 'ljust',\n",
       " 'lower',\n",
       " 'lstrip',\n",
       " 'maketrans',\n",
       " 'partition',\n",
       " 'removeprefix',\n",
       " 'removesuffix',\n",
       " 'replace',\n",
       " 'rfind',\n",
       " 'rindex',\n",
       " 'rjust',\n",
       " 'rpartition',\n",
       " 'rsplit',\n",
       " 'rstrip',\n",
       " 'split',\n",
       " 'splitlines',\n",
       " 'startswith',\n",
       " 'strip',\n",
       " 'swapcase',\n",
       " 'title',\n",
       " 'translate',\n",
       " 'upper',\n",
       " 'zfill']"
      ]
     },
     "execution_count": 19,
     "metadata": {},
     "output_type": "execute_result"
    }
   ],
   "source": [
    "[i for i in dir(str) if \"__\" not in i]"
   ]
  },
  {
   "cell_type": "code",
   "execution_count": 21,
   "metadata": {},
   "outputs": [
    {
     "name": "stdout",
     "output_type": "stream",
     "text": [
      "Muhammad qasim\n",
      "<built-in method upper of str object at 0x00000147D97E2DF0>\n"
     ]
    }
   ],
   "source": [
    "name : str = \"MuHaMmAd QaSiM\"\n",
    "\n",
    "print(name.capitalize())"
   ]
  },
  {
   "cell_type": "code",
   "execution_count": 22,
   "metadata": {},
   "outputs": [
    {
     "data": {
      "text/plain": [
       "'pakistan value a = 7 and value b = 8'"
      ]
     },
     "execution_count": 22,
     "metadata": {},
     "output_type": "execute_result"
    }
   ],
   "source": [
    "a = 7\n",
    "b = 8\n",
    "# {} place holder\n",
    "\"pakistan value a = {} and value b = {}\".format(a,b)"
   ]
  },
  {
   "cell_type": "code",
   "execution_count": 27,
   "metadata": {},
   "outputs": [
    {
     "name": "stdout",
     "output_type": "stream",
     "text": [
      "\n",
      "PIAIC Studen Card\n",
      "Student Name : Muhammad Qasim\n",
      "Father's Name : Muhammad Aslam\n",
      "Age : 30\n",
      "Education : Masters in Data Science \n",
      "\n"
     ]
    }
   ],
   "source": [
    "# Old coding style\n",
    "name : str = \"Muhammad Qasim\"\n",
    "fname : str = \"Muhammad Aslam\"\n",
    "education :str = \"Masters in Data Science\"\n",
    "age : int = 30\n",
    "\n",
    "card : str = '''\n",
    "PIAIC Studen Card\n",
    "Student Name : {1}\n",
    "Father's Name : {0}\n",
    "Age : {3}\n",
    "Education : {2} \n",
    "'''.format(fname,name,education,age)\n",
    "print(card)"
   ]
  },
  {
   "cell_type": "code",
   "execution_count": 29,
   "metadata": {},
   "outputs": [
    {
     "name": "stdout",
     "output_type": "stream",
     "text": [
      "My name is Muhammad Qasim\n",
      "15\n"
     ]
    }
   ],
   "source": [
    "student_code : str = \"\"\"\n",
    "print(\"My name is Muhammad Qasim\")\n",
    "a : int = 7\n",
    "b : int = 8\n",
    "print(a + b)\n",
    "\"\"\"\n",
    "\n",
    "exec(student_code)"
   ]
  },
  {
   "cell_type": "markdown",
   "metadata": {},
   "source": [
    "# Explore string methods and attributes"
   ]
  },
  {
   "cell_type": "code",
   "execution_count": 30,
   "metadata": {},
   "outputs": [
    {
     "name": "stdout",
     "output_type": "stream",
     "text": [
      "['capitalize', 'casefold', 'center', 'count', 'encode', 'endswith', 'expandtabs', 'find', 'format', 'format_map', 'index', 'isalnum', 'isalpha', 'isascii', 'isdecimal', 'isdigit', 'isidentifier', 'islower', 'isnumeric', 'isprintable', 'isspace', 'istitle', 'isupper', 'join', 'ljust', 'lower', 'lstrip', 'maketrans', 'partition', 'removeprefix', 'removesuffix', 'replace', 'rfind', 'rindex', 'rjust', 'rpartition', 'rsplit', 'rstrip', 'split', 'splitlines', 'startswith', 'strip', 'swapcase', 'title', 'translate', 'upper', 'zfill']\n",
      "47\n"
     ]
    }
   ],
   "source": [
    "a : list[str] = [i for i in dir(str) if \"__\" not in i]\n",
    "print(a)\n",
    "print(len(a))"
   ]
  },
  {
   "cell_type": "code",
   "execution_count": 46,
   "metadata": {},
   "outputs": [
    {
     "name": "stdout",
     "output_type": "stream",
     "text": [
      "      muhammad qasim     \n",
      "      muhammad qasim     \n",
      "      muhammad qasim     \n",
      "MuhAmMad QaSiM\n"
     ]
    },
    {
     "data": {
      "text/plain": [
       "'      MuhAmMad QaSiM     '"
      ]
     },
     "metadata": {},
     "output_type": "display_data"
    },
    {
     "data": {
      "text/plain": [
       "'MuhAmMad QaSiM'"
      ]
     },
     "metadata": {},
     "output_type": "display_data"
    }
   ],
   "source": [
    "name : str = \"      MuhAmMad QaSiM     \"\n",
    "\n",
    "print(name.capitalize())\n",
    "print(name.casefold())\n",
    "print(name.lower())\n",
    "print(name.strip())\n",
    "import re\n",
    "\n",
    "display(name)\n",
    "\n",
    "name1 : str = re.sub(' {2,100}','',name)\n",
    "\n",
    "display(name1)"
   ]
  },
  {
   "cell_type": "code",
   "execution_count": 50,
   "metadata": {},
   "outputs": [
    {
     "name": "stdout",
     "output_type": "stream",
     "text": [
      "Muhammad Qasim\n",
      "MUHAMMAD QASIM\n",
      "muhammad qasim\n",
      "Hello, Muhammad Qasim!\n"
     ]
    }
   ],
   "source": [
    "name : str = \"MuhAmMad QaSiM\"\n",
    "\n",
    "print(name.title())\n",
    "print(name.upper())\n",
    "print(name.lower())\n",
    "print(f\"Hello, {name.title()}!\")\n"
   ]
  },
  {
   "cell_type": "code",
   "execution_count": 53,
   "metadata": {},
   "outputs": [
    {
     "name": "stdout",
     "output_type": "stream",
     "text": [
      "Name:\tMuhammad Qasim\n",
      "Name:\n",
      "Muhammad Qasim\n",
      "NameMuhammad Qasim\n"
     ]
    }
   ],
   "source": [
    "print(\"Name:\\tMuhammad Qasim\") # \\t adds space\n",
    "print(\"Name:\\nMuhammad Qasim\") # \\n moves to next line\n",
    "print(\"Name:\\bMuhammad Qasim\") # \\b backspace\n"
   ]
  }
 ],
 "metadata": {
  "kernelspec": {
   "display_name": "python12",
   "language": "python",
   "name": "python3"
  },
  "language_info": {
   "codemirror_mode": {
    "name": "ipython",
    "version": 3
   },
   "file_extension": ".py",
   "mimetype": "text/x-python",
   "name": "python",
   "nbconvert_exporter": "python",
   "pygments_lexer": "ipython3",
   "version": "3.12.0"
  }
 },
 "nbformat": 4,
 "nbformat_minor": 2
}
