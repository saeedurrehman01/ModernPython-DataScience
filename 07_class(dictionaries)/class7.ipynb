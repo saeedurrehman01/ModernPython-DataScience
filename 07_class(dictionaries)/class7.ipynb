{
 "cells": [
  {
   "cell_type": "code",
   "execution_count": 34,
   "metadata": {},
   "outputs": [],
   "source": [
    "# List\n",
    "data : list[str] = [\"Muhammad Aslam\",\"Muhammad Qasim\",\"MSDS\"]"
   ]
  },
  {
   "cell_type": "markdown",
   "metadata": {},
   "source": [
    "# Dictionary\n",
    "\n",
    "* key:value (items)\n",
    "    * key is replacement of indexes\n",
    "    * value item"
   ]
  },
  {
   "cell_type": "code",
   "execution_count": 35,
   "metadata": {},
   "outputs": [
    {
     "name": "stdout",
     "output_type": "stream",
     "text": [
      "{'Age': 25,\n",
      " 'Education': 'MSDS',\n",
      " 'FName': 'Muhammad Aslam',\n",
      " 'Name': 'Muhammad Ali',\n",
      " 'abc': [1, 2, 3],\n",
      " 'asd': {'a': 1, 'b': 2},\n",
      " 'efg': (1, 2, 3),\n",
      " 'xyz': {1, 2, 3}}\n",
      "Muhammad Ali\n",
      "25\n"
     ]
    },
    {
     "data": {
      "text/plain": [
       "['clear',\n",
       " 'copy',\n",
       " 'fromkeys',\n",
       " 'get',\n",
       " 'items',\n",
       " 'keys',\n",
       " 'pop',\n",
       " 'popitem',\n",
       " 'setdefault',\n",
       " 'update',\n",
       " 'values']"
      ]
     },
     "execution_count": 35,
     "metadata": {},
     "output_type": "execute_result"
    }
   ],
   "source": [
    "from typing import Dict, Union,Optional\n",
    "import pprint\n",
    "\n",
    "Key = Union[int,str] # create custom type\n",
    "Value = Union[int,str,list,dict,tuple,set] # create custom type\n",
    "\n",
    "data : Dict[Key,Value] = {\"FName\":\"Muhammad Aslam\",\n",
    "                        \"Name\": \"Muhammad Qasim\",\n",
    "                        \"Education\":\"MSDS\",\n",
    "                        \"Age\": 25,\n",
    "                        \"abc\" : [1,2,3],\n",
    "                        \"xyz\" : {1,2,3},\n",
    "                        \"efg\" : (1,2,3),\n",
    "                        \"asd\" : {\"a\" : 1, \"b\" : 2}\n",
    "                        #[1,2,3] : \"Pakistan\", # error\n",
    "                        }\n",
    "\n",
    "data[\"Name\"] = \"Muhammad Ali\"\n",
    "\n",
    "pprint.pprint(data)\n",
    "print(data[\"Name\"])\n",
    "\n",
    "print(data[\"Age\"])\n",
    "\n",
    "[i for i in dir(data) if \"__\" not in i]"
   ]
  },
  {
   "cell_type": "code",
   "execution_count": 36,
   "metadata": {},
   "outputs": [
    {
     "name": "stdout",
     "output_type": "stream",
     "text": [
      "{1, 2, 3, 4, 5, 7, 9}\n"
     ]
    },
    {
     "data": {
      "text/plain": [
       "['add',\n",
       " 'clear',\n",
       " 'copy',\n",
       " 'difference',\n",
       " 'difference_update',\n",
       " 'discard',\n",
       " 'intersection',\n",
       " 'intersection_update',\n",
       " 'isdisjoint',\n",
       " 'issubset',\n",
       " 'issuperset',\n",
       " 'pop',\n",
       " 'remove',\n",
       " 'symmetric_difference',\n",
       " 'symmetric_difference_update',\n",
       " 'union',\n",
       " 'update']"
      ]
     },
     "execution_count": 36,
     "metadata": {},
     "output_type": "execute_result"
    }
   ],
   "source": [
    "data : set = {7,2,3,4,5,4,3,5,2,4,1,9}\n",
    "print(data)\n",
    "\n",
    "[i for i in dir(data) if \"__\" not in i]"
   ]
  },
  {
   "cell_type": "markdown",
   "metadata": {},
   "source": [
    "* We can use assign operator to assign new values or update values"
   ]
  },
  {
   "cell_type": "code",
   "execution_count": 37,
   "metadata": {},
   "outputs": [
    {
     "data": {
      "text/plain": [
       "{'Name': 'Saeed Ur Rehman',\n",
       " 'Father Name': 'Muhammad Yaqoob',\n",
       " 'Education': 'Engineering',\n",
       " 'Age': 25}"
      ]
     },
     "execution_count": 37,
     "metadata": {},
     "output_type": "execute_result"
    }
   ],
   "source": [
    "from typing import Dict, Union,Optional\n",
    "import pprint\n",
    "\n",
    "Key = Union[int,str] # create custom type\n",
    "Value = Union[int,str,list,dict,tuple,set] # create custom type\n",
    "\n",
    "data : Dict[Key,Value] = {}\n",
    "\n",
    "data['Name'] = \"Saeed Ur Rehman\"\n",
    "data['Father Name'] = \"Muhammad Yaqoob\"\n",
    "data['Education'] = \"Engineering\"\n",
    "data['Age'] = 25\n",
    "\n",
    "data"
   ]
  },
  {
   "cell_type": "code",
   "execution_count": 38,
   "metadata": {},
   "outputs": [
    {
     "name": "stdout",
     "output_type": "stream",
     "text": [
      "Key is not present in dictionary\n"
     ]
    }
   ],
   "source": [
    "from typing import Dict, Union,Optional\n",
    "import pprint\n",
    "\n",
    "Key = Union[int,str] # create custom type\n",
    "Value = Union[int,str,list,dict,tuple,set] # create custom type\n",
    "\n",
    "data : Dict[Key,Value] = {\"FName\":\"Muhammad Aslam\",\n",
    "                        \"Name\": \"Muhammad Qasim\",\n",
    "                        \"Education\":\"MSDS\",\n",
    "                        \"Age\": 25,}\n",
    "\n",
    "print(data.get('Pakistan',\"Key is not present in dictionary\"))"
   ]
  },
  {
   "cell_type": "code",
   "execution_count": 39,
   "metadata": {},
   "outputs": [
    {
     "name": "stdout",
     "output_type": "stream",
     "text": [
      "FName\n",
      "Name\n",
      "Education\n",
      "Age\n"
     ]
    }
   ],
   "source": [
    "from typing import Dict, Union,Optional\n",
    "import pprint\n",
    "\n",
    "Key = Union[int,str] # create custom type\n",
    "Value = Union[int,str,list,dict,tuple,set] # create custom type\n",
    "\n",
    "data : Dict[Key,Value] = {\"FName\":\"Muhammad Aslam\",\n",
    "                        \"Name\": \"Muhammad Qasim\",\n",
    "                        \"Education\":\"MSDS\",\n",
    "                        \"Age\": 25,}\n",
    "\n",
    "for d in data:\n",
    "    print(d)"
   ]
  },
  {
   "cell_type": "code",
   "execution_count": 40,
   "metadata": {},
   "outputs": [
    {
     "name": "stdout",
     "output_type": "stream",
     "text": [
      "dict_keys(['FName', 'Name', 'Education', 'Age'])\n",
      "dict_values(['Muhammad Aslam', 'Muhammad Qasim', 'MSDS', 25])\n",
      "dict_items([('FName', 'Muhammad Aslam'), ('Name', 'Muhammad Qasim'), ('Education', 'MSDS'), ('Age', 25)])\n",
      "FName Muhammad Aslam\n",
      "Name Muhammad Qasim\n",
      "Education MSDS\n",
      "Age 25\n"
     ]
    },
    {
     "data": {
      "text/plain": [
       "{'Muhammad Aslam': 'FName',\n",
       " 'Muhammad Qasim': 'Name',\n",
       " 'MSDS': 'Education',\n",
       " 25: 'Age'}"
      ]
     },
     "execution_count": 40,
     "metadata": {},
     "output_type": "execute_result"
    }
   ],
   "source": [
    "from typing import Dict, Union,Optional\n",
    "import pprint\n",
    "\n",
    "Key = Union[int,str] # create custom type\n",
    "Value = Union[int,str,list,dict,tuple,set] # create custom type\n",
    "\n",
    "data : Dict[Key,Value] = {\"FName\":\"Muhammad Aslam\",\n",
    "                        \"Name\": \"Muhammad Qasim\",\n",
    "                        \"Education\":\"MSDS\",\n",
    "                        \"Age\": 25,}\n",
    "\n",
    "print(data.keys()) # Prints only keys\n",
    "print(data.values()) # prints only values\n",
    "print(data.items()) # prints both values and keys as list of touples\n",
    "\n",
    "for k,v in data.items(): # Iterate through all items of dictionary\n",
    "    print(k,v)\n",
    "{v:k for k,v in data.items()} # print values first and then keys"
   ]
  },
  {
   "cell_type": "code",
   "execution_count": 41,
   "metadata": {},
   "outputs": [
    {
     "data": {
      "text/plain": [
       "{'id': None, 'name': None, 'fname': None, 'course': None}"
      ]
     },
     "execution_count": 41,
     "metadata": {},
     "output_type": "execute_result"
    }
   ],
   "source": [
    "keys : list[str] = ['id','name','fname','course']\n",
    "\n",
    "data : dict[keys,Value] = {}\n",
    "\n",
    "data.fromkeys(keys)"
   ]
  }
 ],
 "metadata": {
  "kernelspec": {
   "display_name": "python12",
   "language": "python",
   "name": "python3"
  },
  "language_info": {
   "codemirror_mode": {
    "name": "ipython",
    "version": 3
   },
   "file_extension": ".py",
   "mimetype": "text/x-python",
   "name": "python",
   "nbconvert_exporter": "python",
   "pygments_lexer": "ipython3",
   "version": "3.12.0"
  }
 },
 "nbformat": 4,
 "nbformat_minor": 2
}
