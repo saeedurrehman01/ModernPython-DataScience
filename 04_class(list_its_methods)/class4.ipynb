{
 "cells": [
  {
   "cell_type": "code",
   "execution_count": 1,
   "metadata": {},
   "outputs": [],
   "source": [
    "name1 : str = \"Qasim\"\n",
    "name2 : str = \"Sir Zia\"\n",
    "name3 : str = \"Sir Inam\""
   ]
  },
  {
   "cell_type": "markdown",
   "metadata": {},
   "source": [
    "# List\n",
    "* dynamic length\n",
    "* hetrogenous data types (Multiple type)\n",
    "* index\n",
    "    * positive 0 to n-1\n",
    "    * negative -1 to length"
   ]
  },
  {
   "cell_type": "code",
   "execution_count": 10,
   "metadata": {},
   "outputs": [
    {
     "name": "stdout",
     "output_type": "stream",
     "text": [
      "Qasim\n",
      "Qasim\n",
      "Sir Zia\n",
      "Sir Zia\n",
      "Sir Inam\n",
      "Sir Inam\n",
      "Qasim Sir Zia Sir Inam\n"
     ]
    }
   ],
   "source": [
    "lists = [123 , True , \"Sir Zia\", 0.45]\n",
    "names = [\"Qasim\" , \"Sir Zia\" , \"Sir Inam\"]\n",
    "\n",
    "print(names[0]) # Qasim\n",
    "print(names[-3]) # Qasim\n",
    "\n",
    "print(names[1]) # Sir Zia\n",
    "print(names[-2]) # Sir Zia\n",
    "\n",
    "print(names[2]) # Sir Inam\n",
    "print(names[-1]) # Sir Inam\n",
    "\n",
    "print(*names)\n",
    "\n"
   ]
  },
  {
   "cell_type": "code",
   "execution_count": 18,
   "metadata": {},
   "outputs": [
    {
     "name": "stdout",
     "output_type": "stream",
     "text": [
      "<class 'list'>\n",
      "The Founder of PIAIC is SIR ZIA\n",
      "QASIM\n"
     ]
    }
   ],
   "source": [
    "from typing import Any\n",
    "\n",
    "names : list[Any] = [\"Qasim\" , \"Sir Zia\" , \"Sir Inam\"]\n",
    "print(type(names))\n",
    "print(f'The Founder of PIAIC is {names[1].upper()}')\n",
    "print(names[0].upper())"
   ]
  },
  {
   "cell_type": "code",
   "execution_count": 19,
   "metadata": {},
   "outputs": [
    {
     "name": "stdout",
     "output_type": "stream",
     "text": [
      "['A', 'B', 'C', 'D', 'E', 'F', 'G', 'H', 'I', 'J', 'K', 'L', 'M', 'N', 'O', 'P', 'Q', 'R', 'S', 'T', 'U', 'V', 'W', 'X', 'Y', 'Z']\n"
     ]
    }
   ],
   "source": [
    "characters : list[str] = list(\"ABCDEFGHIJKLMNOPQRSTUVWXYZ\")\n",
    "\n",
    "print(characters)\n",
    "\n"
   ]
  },
  {
   "cell_type": "code",
   "execution_count": 22,
   "metadata": {},
   "outputs": [
    {
     "name": "stdout",
     "output_type": "stream",
     "text": [
      "['1', '2', '3', '4', '5', '6', '7', '8', '9']\n"
     ]
    }
   ],
   "source": [
    "numbers : list[str] = list(\"123456789\")\n",
    "\n",
    "print(numbers)"
   ]
  },
  {
   "cell_type": "code",
   "execution_count": 9,
   "metadata": {},
   "outputs": [
    {
     "name": "stdout",
     "output_type": "stream",
     "text": [
      "['C', 'D', 'E', 'F', 'G', 'H', 'I', 'J']\n",
      "['A', 'B']\n",
      "['A', 'B']\n",
      "['A', 'B', 'C', 'D', 'E', 'F', 'G', 'H', 'I', 'J']\n",
      "['A', 'B', 'C', 'D', 'E', 'F', 'G', 'H', 'I', 'J']\n",
      "['A', 'B', 'C', 'D', 'E', 'F', 'G', 'H', 'I', 'J', 'K', 'L', 'M', 'N', 'O', 'P', 'Q', 'R', 'S', 'T', 'U', 'V', 'W', 'X', 'Y']\n",
      "['Z', 'Y', 'X', 'W', 'V', 'U', 'T', 'S', 'R', 'Q', 'P', 'O', 'N', 'M', 'L', 'K', 'J', 'I', 'H', 'G', 'F', 'E', 'D', 'C', 'B', 'A']\n",
      "['B', 'C', 'D', 'E', 'F', 'G', 'H', 'I', 'J', 'K']\n",
      "[]\n",
      "['Z', 'Y', 'X', 'W']\n"
     ]
    }
   ],
   "source": [
    "characters : list[str] = ['A', 'B', 'C', 'D', 'E', 'F', 'G', 'H', 'I', 'J', 'K', 'L', 'M', 'N', 'O', 'P', 'Q', 'R', 'S', 'T', 'U', 'V', 'W', 'X', 'Y', 'Z']\n",
    "\n",
    "print(characters[2:10])\n",
    "print(characters[:2])\n",
    "print(characters[-26:-24])\n",
    "print(characters[0:10:1])\n",
    "print(characters[0:10:])\n",
    "print(characters[0:(len(characters)-1)]) # length of list -1\n",
    "print(characters[::-1])\n",
    "print(characters[1:-15])\n",
    "print(characters[-1:-5])\n",
    "print(characters[-1:-5:-1])\n"
   ]
  },
  {
   "cell_type": "markdown",
   "metadata": {},
   "source": [
    "# List Methods"
   ]
  },
  {
   "cell_type": "code",
   "execution_count": 14,
   "metadata": {},
   "outputs": [
    {
     "name": "stdout",
     "output_type": "stream",
     "text": [
      "['Qasim', 'Sir Zia', 'Sir Inam', 20, True]\n",
      "['Saeed', 'Sir Zia', 'Sir Inam', 20, True]\n",
      "['Saeed', 'Sir Zia', 'Sir Inam', True]\n"
     ]
    }
   ],
   "source": [
    "from typing import Any\n",
    "\n",
    "names : list[Any] = [\"Qasim\", \"Sir Zia\", \"Sir Inam\", 20, True]\n",
    "\n",
    "print(names)\n",
    "names[0] = \"Saeed\"\n",
    "print(names)\n",
    "\n",
    "del names [3] # del deletes the value at index but cannot store it in another value\n",
    "print(names)"
   ]
  },
  {
   "cell_type": "code",
   "execution_count": 15,
   "metadata": {},
   "outputs": [
    {
     "data": {
      "text/plain": [
       "['append',\n",
       " 'clear',\n",
       " 'copy',\n",
       " 'count',\n",
       " 'extend',\n",
       " 'index',\n",
       " 'insert',\n",
       " 'pop',\n",
       " 'remove',\n",
       " 'reverse',\n",
       " 'sort']"
      ]
     },
     "execution_count": 15,
     "metadata": {},
     "output_type": "execute_result"
    }
   ],
   "source": [
    "[i for i in dir(list) if \"__\" not in i]"
   ]
  },
  {
   "cell_type": "markdown",
   "metadata": {},
   "source": [
    "# Help\n",
    "* help(object)\n",
    "* object?\n",
    "* object??\n",
    "* ?object\n",
    "* ??object"
   ]
  },
  {
   "cell_type": "code",
   "execution_count": 17,
   "metadata": {},
   "outputs": [
    {
     "name": "stdout",
     "output_type": "stream",
     "text": [
      "Help on method_descriptor:\n",
      "\n",
      "pop(self, index=-1, /)\n",
      "    Remove and return item at index (default last).\n",
      "\n",
      "    Raises IndexError if list is empty or index is out of range.\n",
      "\n"
     ]
    }
   ],
   "source": [
    "help(list.pop)"
   ]
  },
  {
   "cell_type": "code",
   "execution_count": 20,
   "metadata": {},
   "outputs": [
    {
     "name": "stdout",
     "output_type": "stream",
     "text": [
      "Qasim\n",
      "['Sir Zia', 'Sir Inam', 20, True, 54.5]\n"
     ]
    }
   ],
   "source": [
    "# Pop method for list\n",
    "\n",
    "names : list[Any] = [\"Qasim\", \"Sir Zia\", \"Sir Inam\", 20, True, 54.5]\n",
    "\n",
    "a : str = names.pop(0)\n",
    "\n",
    "print(a)\n",
    "print(names)"
   ]
  },
  {
   "cell_type": "code",
   "execution_count": 22,
   "metadata": {},
   "outputs": [
    {
     "name": "stdout",
     "output_type": "stream",
     "text": [
      "['Sir Zia', 'Sir Inam']\n"
     ]
    }
   ],
   "source": [
    "# Append method for list\n",
    "\n",
    "names : list[str] = []\n",
    "\n",
    "names.append(\"Sir Zia\")\n",
    "names.append(\"Sir Inam\")\n",
    "\n",
    "print(names)"
   ]
  },
  {
   "cell_type": "code",
   "execution_count": 23,
   "metadata": {},
   "outputs": [
    {
     "name": "stdout",
     "output_type": "stream",
     "text": [
      "['a', 'b', 'd', 'e']\n",
      "['a', 'b', 'c', 'd', 'e']\n"
     ]
    }
   ],
   "source": [
    "# Insert method for list\n",
    "\n",
    "names : list[str] = ['a', 'b', 'd', 'e']\n",
    "\n",
    "print(names)\n",
    "names.insert(2, 'c')\n",
    "print(names)"
   ]
  },
  {
   "cell_type": "code",
   "execution_count": 24,
   "metadata": {},
   "outputs": [
    {
     "name": "stdout",
     "output_type": "stream",
     "text": [
      "[]\n"
     ]
    }
   ],
   "source": [
    "names : list[str] = ['a', 'b', 'd', 'e']\n",
    "names.clear() # Clears all values\n",
    "print(names)"
   ]
  },
  {
   "cell_type": "code",
   "execution_count": 25,
   "metadata": {},
   "outputs": [
    {
     "name": "stdout",
     "output_type": "stream",
     "text": [
      "['a', 'b', 'c', 'd']\n",
      "['a', 'b', 'c', 'd']\n",
      "['Pakistan', 'b', 'c', 'd']\n",
      "['Pakistan', 'b', 'c', 'd']\n"
     ]
    }
   ],
   "source": [
    "a : list[str] = ['a', 'b', 'c', 'd']\n",
    "\n",
    "b = a # Shallow Copy\n",
    "\n",
    "print(a)\n",
    "print(b)\n",
    "\n",
    "b[0] = 'Pakistan' # need to change only b variable but both variables updated\n",
    "\n",
    "print(a)\n",
    "print(b)"
   ]
  },
  {
   "cell_type": "code",
   "execution_count": 26,
   "metadata": {},
   "outputs": [
    {
     "name": "stdout",
     "output_type": "stream",
     "text": [
      "['a', 'b', 'c', 'd']\n",
      "['a', 'b', 'c', 'd']\n",
      "['a', 'b', 'c', 'd']\n",
      "['Pakistan', 'b', 'c', 'd']\n"
     ]
    }
   ],
   "source": [
    "# Copy\n",
    "\n",
    "a : list[str] = ['a', 'b', 'c', 'd']\n",
    "b = a.copy() # Deep Copy\n",
    "print(a)\n",
    "print(b)\n",
    "\n",
    "b[0] = 'Pakistan' # need to change only b variable but both variables updated\n",
    "\n",
    "print(a)\n",
    "print(b)"
   ]
  },
  {
   "cell_type": "code",
   "execution_count": 30,
   "metadata": {},
   "outputs": [
    {
     "name": "stdout",
     "output_type": "stream",
     "text": [
      "3\n"
     ]
    }
   ],
   "source": [
    "# Count\n",
    "a : list[str] = ['a','a','a','b','b','c']\n",
    "print(a.count('a'))"
   ]
  },
  {
   "cell_type": "code",
   "execution_count": 32,
   "metadata": {},
   "outputs": [
    {
     "name": "stdout",
     "output_type": "stream",
     "text": [
      "['Sir Zia', 'Sir Inam', 'Muhammad Qasim', 'Dr Noman', 'Saeed']\n"
     ]
    }
   ],
   "source": [
    "names : list[str] = [\"Sir Zia\", \"Sir Inam\", \"Muhammad Qasim\"]\n",
    "\n",
    "new_faculty_members : list[str] = [\"Dr Noman\", \"Saeed\"]\n",
    "\n",
    "names.extend(new_faculty_members)\n",
    "\n",
    "print(names)"
   ]
  },
  {
   "cell_type": "code",
   "execution_count": 33,
   "metadata": {},
   "outputs": [
    {
     "name": "stdout",
     "output_type": "stream",
     "text": [
      "['Sir Zia', 'Sir Inam', 'Muhammad Qasim', 'Dr Noman', 'Saeed']\n",
      "['Saeed', 'Dr Noman', 'Muhammad Qasim', 'Sir Inam', 'Sir Zia']\n"
     ]
    }
   ],
   "source": [
    "names : list[str] = ['Sir Zia', 'Sir Inam', 'Muhammad Qasim', 'Dr Noman', 'Saeed']\n",
    "\n",
    "print(names)\n",
    "names.reverse() # in-memory = change real data\n",
    "\n",
    "print(names)"
   ]
  },
  {
   "cell_type": "code",
   "execution_count": 36,
   "metadata": {},
   "outputs": [
    {
     "name": "stdout",
     "output_type": "stream",
     "text": [
      "['Sir Zia', 'Sir Inam', 'Muhammad Qasim', 'Dr Noman', 'Saeed']\n",
      "['Dr Noman', 'Muhammad Qasim', 'Saeed', 'Sir Inam', 'Sir Zia']\n",
      "['Sir Zia', 'Sir Inam', 'Saeed', 'Muhammad Qasim', 'Dr Noman']\n"
     ]
    }
   ],
   "source": [
    "names : list[str] = ['Sir Zia', 'Sir Inam', 'Muhammad Qasim', 'Dr Noman', 'Saeed']\n",
    "\n",
    "print(names)\n",
    "\n",
    "names.sort() # Ascending Order\n",
    "\n",
    "print(names)\n",
    "\n",
    "names.sort(reverse=True) # Descending Order\n",
    "\n",
    "print(names)"
   ]
  }
 ],
 "metadata": {
  "kernelspec": {
   "display_name": "python12",
   "language": "python",
   "name": "python3"
  },
  "language_info": {
   "codemirror_mode": {
    "name": "ipython",
    "version": 3
   },
   "file_extension": ".py",
   "mimetype": "text/x-python",
   "name": "python",
   "nbconvert_exporter": "python",
   "pygments_lexer": "ipython3",
   "version": "3.12.0"
  }
 },
 "nbformat": 4,
 "nbformat_minor": 2
}
