{
 "cells": [
  {
   "cell_type": "code",
   "execution_count": 1,
   "metadata": {},
   "outputs": [],
   "source": [
    "name1 : str = \"Qasim\"\n",
    "name2 : str = \"Sir Zia\"\n",
    "name3 : str = \"Sir Inam\""
   ]
  },
  {
   "cell_type": "markdown",
   "metadata": {},
   "source": [
    "# List\n",
    "* dynamic length\n",
    "* hetrogenous data types (Multiple type)\n",
    "* index\n",
    "    * positive 0 to n-1\n",
    "    * negative -1 to length"
   ]
  },
  {
   "cell_type": "code",
   "execution_count": 10,
   "metadata": {},
   "outputs": [
    {
     "name": "stdout",
     "output_type": "stream",
     "text": [
      "Qasim\n",
      "Qasim\n",
      "Sir Zia\n",
      "Sir Zia\n",
      "Sir Inam\n",
      "Sir Inam\n",
      "Qasim Sir Zia Sir Inam\n"
     ]
    }
   ],
   "source": [
    "lists = [123 , True , \"Sir Zia\", 0.45]\n",
    "names = [\"Qasim\" , \"Sir Zia\" , \"Sir Inam\"]\n",
    "\n",
    "print(names[0]) # Qasim\n",
    "print(names[-3]) # Qasim\n",
    "\n",
    "print(names[1]) # Sir Zia\n",
    "print(names[-2]) # Sir Zia\n",
    "\n",
    "print(names[2]) # Sir Inam\n",
    "print(names[-1]) # Sir Inam\n",
    "\n",
    "print(*names)\n",
    "\n"
   ]
  },
  {
   "cell_type": "code",
   "execution_count": 18,
   "metadata": {},
   "outputs": [
    {
     "name": "stdout",
     "output_type": "stream",
     "text": [
      "<class 'list'>\n",
      "The Founder of PIAIC is SIR ZIA\n",
      "QASIM\n"
     ]
    }
   ],
   "source": [
    "from typing import Any\n",
    "\n",
    "names : list[Any] = [\"Qasim\" , \"Sir Zia\" , \"Sir Inam\"]\n",
    "print(type(names))\n",
    "print(f'The Founder of PIAIC is {names[1].upper()}')\n",
    "print(names[0].upper())"
   ]
  },
  {
   "cell_type": "code",
   "execution_count": 19,
   "metadata": {},
   "outputs": [
    {
     "name": "stdout",
     "output_type": "stream",
     "text": [
      "['A', 'B', 'C', 'D', 'E', 'F', 'G', 'H', 'I', 'J', 'K', 'L', 'M', 'N', 'O', 'P', 'Q', 'R', 'S', 'T', 'U', 'V', 'W', 'X', 'Y', 'Z']\n"
     ]
    }
   ],
   "source": [
    "characters : list[str] = list(\"ABCDEFGHIJKLMNOPQRSTUVWXYZ\")\n",
    "\n",
    "print(characters)\n",
    "\n"
   ]
  },
  {
   "cell_type": "code",
   "execution_count": 22,
   "metadata": {},
   "outputs": [
    {
     "name": "stdout",
     "output_type": "stream",
     "text": [
      "['1', '2', '3', '4', '5', '6', '7', '8', '9']\n"
     ]
    }
   ],
   "source": [
    "numbers : list[str] = list(\"123456789\")\n",
    "\n",
    "print(numbers)"
   ]
  },
  {
   "cell_type": "code",
   "execution_count": 11,
   "metadata": {},
   "outputs": [
    {
     "name": "stdout",
     "output_type": "stream",
     "text": [
      "['C', 'D', 'E', 'F', 'G', 'H', 'I', 'J']\n",
      "['A', 'B']\n",
      "['A', 'B']\n",
      "['A', 'B', 'C', 'D', 'E', 'F', 'G', 'H', 'I', 'J']\n",
      "['A', 'B', 'C', 'D', 'E', 'F', 'G', 'H', 'I', 'J']\n",
      "['A', 'B', 'C', 'D', 'E', 'F', 'G', 'H', 'I', 'J', 'K', 'L', 'M', 'N', 'O', 'P', 'Q', 'R', 'S', 'T', 'U', 'V', 'W', 'X', 'Y']\n",
      "['Z', 'Y', 'X', 'W', 'V', 'U', 'T', 'S', 'R', 'Q', 'P', 'O', 'N', 'M', 'L', 'K', 'J', 'I', 'H', 'G', 'F', 'E', 'D', 'C', 'B', 'A']\n"
     ]
    }
   ],
   "source": [
    "characters : list[str] = ['A', 'B', 'C', 'D', 'E', 'F', 'G', 'H', 'I', 'J', 'K', 'L', 'M', 'N', 'O', 'P', 'Q', 'R', 'S', 'T', 'U', 'V', 'W', 'X', 'Y', 'Z']\n",
    "\n",
    "print(characters[2:10])\n",
    "print(characters[:2])\n",
    "print(characters[-26:-24])\n",
    "print(characters[0:10:1])\n",
    "print(characters[0:10:])\n",
    "print(characters[0:(len(characters)-1)]) # length of list -1\n",
    "print(characters[::-1])\n"
   ]
  }
 ],
 "metadata": {
  "kernelspec": {
   "display_name": "python12",
   "language": "python",
   "name": "python3"
  },
  "language_info": {
   "codemirror_mode": {
    "name": "ipython",
    "version": 3
   },
   "file_extension": ".py",
   "mimetype": "text/x-python",
   "name": "python",
   "nbconvert_exporter": "python",
   "pygments_lexer": "ipython3",
   "version": "3.12.0"
  }
 },
 "nbformat": 4,
 "nbformat_minor": 2
}
