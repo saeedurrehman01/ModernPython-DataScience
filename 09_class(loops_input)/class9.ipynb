{
 "cells": [
  {
   "cell_type": "markdown",
   "metadata": {},
   "source": [
    "# Loop and input from user\n",
    "* While Loop\n",
    "* For Loop\n",
    "* Controls\n",
    "    * Break\n",
    "    * continue\n",
    "    * pass\n",
    "* input with input function\n",
    "* input from console\n",
    "\n",
    "# Loop working on iterative data types\n",
    "* list\n",
    "* dictionary\n",
    "* tuple\n",
    "* string"
   ]
  },
  {
   "cell_type": "code",
   "execution_count": 1,
   "metadata": {},
   "outputs": [
    {
     "name": "stdout",
     "output_type": "stream",
     "text": [
      "[1, 2, 3, 4, 5, 6]\n"
     ]
    }
   ],
   "source": [
    "#                 0 1 2 3 4 5\n",
    "l1 : list[int] = [1,2,3,4,5,6]\n",
    "print(l1)"
   ]
  },
  {
   "cell_type": "code",
   "execution_count": 3,
   "metadata": {},
   "outputs": [
    {
     "name": "stdout",
     "output_type": "stream",
     "text": [
      "1\n",
      "2\n",
      "3\n",
      "4\n",
      "5\n",
      "6\n",
      "[1, 2, 3, 4, 5, 6]\n"
     ]
    }
   ],
   "source": [
    "#                 0 1 2 3 4 5\n",
    "l1 : list[int] = [1,2,3,4,5,6]\n",
    "for n in l1:\n",
    "    print(n)\n",
    "print(l1)"
   ]
  },
  {
   "cell_type": "code",
   "execution_count": 6,
   "metadata": {},
   "outputs": [
    {
     "name": "stdout",
     "output_type": "stream",
     "text": [
      "Current Number : 1\n",
      "Current Number : 2\n",
      "Current Number : 3\n",
      "Current Number : 4\n",
      "Current Number : 5\n",
      "Current Number : 6\n"
     ]
    }
   ],
   "source": [
    "l1 : list[int] = [1,2,3,4,5,6]\n",
    "for n in l1:\n",
    "    print(f\"Current Number : {n}\")"
   ]
  },
  {
   "cell_type": "code",
   "execution_count": 7,
   "metadata": {},
   "outputs": [
    {
     "name": "stdout",
     "output_type": "stream",
     "text": [
      "Current Number : 1\n",
      "Current Number : 2\n",
      "Current Number : 3\n",
      "Current Number : 4\n",
      "Current Number : 5\n",
      "Current Number : 6\n"
     ]
    }
   ],
   "source": [
    "l1 : tuple[int] = (1,2,3,4,5,6)\n",
    "for n in l1:\n",
    "    print(f\"Current Number : {n}\")"
   ]
  },
  {
   "cell_type": "code",
   "execution_count": 9,
   "metadata": {},
   "outputs": [
    {
     "name": "stdout",
     "output_type": "stream",
     "text": [
      "Current character : P\n",
      "Current character : a\n",
      "Current character : k\n",
      "Current character : i\n",
      "Current character : s\n",
      "Current character : t\n",
      "Current character : a\n",
      "Current character : n\n"
     ]
    }
   ],
   "source": [
    "l1 : str = \"Pakistan\"\n",
    "\n",
    "for c in l1:\n",
    "    print(f\"Current character : {c}\")"
   ]
  },
  {
   "cell_type": "code",
   "execution_count": 14,
   "metadata": {},
   "outputs": [
    {
     "name": "stdout",
     "output_type": "stream",
     "text": [
      "dictionary key is name and key is Muhammad Qasim\n",
      "dictionary key is fname and key is Muhammad Aslam\n"
     ]
    }
   ],
   "source": [
    "l1 : dict[str,str] = {\"name\" : \"Muhammad Qasim\",\"fname\" : \"Muhammad Aslam\"}\n",
    "\n",
    "for c in l1:\n",
    "    print(f\"dictionary key is {c} and key is {l1[c]}\")"
   ]
  },
  {
   "cell_type": "code",
   "execution_count": 21,
   "metadata": {},
   "outputs": [
    {
     "name": "stdout",
     "output_type": "stream",
     "text": [
      "value is 1\n",
      "value is 2\n",
      "value is 3\n",
      "value is 4\n",
      "value is 5\n",
      "value is 6\n"
     ]
    }
   ],
   "source": [
    "l1 : list[set[int]] = list({1,2,3,4,5,6,1,2,3,1,2,4,5,3})\n",
    "\n",
    "for k in l1:\n",
    "    print(f\"value is {k}\")\n"
   ]
  },
  {
   "cell_type": "markdown",
   "metadata": {},
   "source": [
    "# input from user\n",
    "* input function\n",
    "    * default type = string\n",
    "* sys.argv (for console input in abc.py file)\n",
    "    * default type = object"
   ]
  },
  {
   "cell_type": "code",
   "execution_count": 22,
   "metadata": {},
   "outputs": [
    {
     "name": "stdout",
     "output_type": "stream",
     "text": [
      "<class 'str'>\n",
      "Welcome Dear Mr/Miss Saeed Ur Rehman\n"
     ]
    }
   ],
   "source": [
    "name : str = input(\"What is your name? : \\t\")\n",
    "\n",
    "print(type(name))\n",
    "\n",
    "print(f\"Welcome Dear Mr/Miss {name}\")"
   ]
  },
  {
   "cell_type": "code",
   "execution_count": 28,
   "metadata": {},
   "outputs": [
    {
     "name": "stdout",
     "output_type": "stream",
     "text": [
      "Welcom a S/O x, Aged : 1\n",
      "Welcom b S/O y, Aged : 2\n",
      "Welcom c S/O z, Aged : 3\n",
      "Welcom d S/O q, Aged : 4\n"
     ]
    }
   ],
   "source": [
    "names : list[str] = ['a','b','c','d']\n",
    "fnames : list[str] = ['x','y','z','q']\n",
    "age : list[int] = [1,2,3,4]\n",
    "\n",
    "list(zip(names,fnames,age))\n",
    "\n",
    "for n,fn,ag in zip(names,fnames,age):\n",
    "    print(f\"Welcom {n} S/O {fn}, Aged : {ag}\")"
   ]
  },
  {
   "cell_type": "code",
   "execution_count": 29,
   "metadata": {},
   "outputs": [
    {
     "name": "stdout",
     "output_type": "stream",
     "text": [
      "line1\n",
      "line2\n",
      "['C:\\\\Users\\\\saeed\\\\AppData\\\\Roaming\\\\Python\\\\Python312\\\\site-packages\\\\ipykernel_launcher.py', '--ip=127.0.0.1', '--stdin=9003', '--control=9001', '--hb=9000', '--Session.signature_scheme=\"hmac-sha256\"', '--Session.key=b\"37d74925-09a3-4bab-9346-d008f8364000\"', '--shell=9002', '--transport=\"tcp\"', '--iopub=9004', '--f=c:\\\\Users\\\\saeed\\\\AppData\\\\Roaming\\\\jupyter\\\\runtime\\\\kernel-v2-17232myGSw5Lc4dmN.json']\n",
      "<class 'list'>\n"
     ]
    }
   ],
   "source": [
    "import sys\n",
    "\n",
    "print(\"line1\")\n",
    "print(\"line2\")\n",
    "\n",
    "print(sys.argv) # iterative data type\n",
    "print(type(sys.argv))"
   ]
  },
  {
   "cell_type": "markdown",
   "metadata": {},
   "source": [
    "# While Loop\n",
    "\n",
    "While logic: # True/False"
   ]
  },
  {
   "cell_type": "code",
   "execution_count": 31,
   "metadata": {},
   "outputs": [
    {
     "name": "stdout",
     "output_type": "stream",
     "text": [
      "current number is 0\n",
      "current number is 1\n",
      "current number is 2\n",
      "current number is 3\n",
      "current number is 4\n",
      "current number is 5\n",
      "current number is 6\n",
      "current number is 7\n",
      "current number is 8\n",
      "current number is 9\n"
     ]
    }
   ],
   "source": [
    "flage : bool = True\n",
    "\n",
    "current_number : int = 0\n",
    "\n",
    "while flage:\n",
    "    print(f\"current number is {current_number}\")\n",
    "    current_number +=1\n",
    "    if current_number == 10:\n",
    "        break"
   ]
  },
  {
   "cell_type": "code",
   "execution_count": 30,
   "metadata": {},
   "outputs": [
    {
     "name": "stdout",
     "output_type": "stream",
     "text": [
      "current number is 0\n",
      "current number is 1\n",
      "current number is 2\n",
      "current number is 3\n",
      "current number is 4\n",
      "current number is 5\n",
      "current number is 6\n",
      "current number is 7\n",
      "current number is 8\n",
      "current number is 9\n"
     ]
    }
   ],
   "source": [
    "current_number : int = 0\n",
    "\n",
    "while current_number < 10:\n",
    "    print(f\"current number is {current_number}\")\n",
    "    current_number +=1"
   ]
  },
  {
   "cell_type": "code",
   "execution_count": 32,
   "metadata": {},
   "outputs": [
    {
     "name": "stdout",
     "output_type": "stream",
     "text": [
      "Hello\n",
      "How are you?\n",
      "quit\n"
     ]
    }
   ],
   "source": [
    "prompt = \"\\nTell me something, and I will repeat it back to you:\"\n",
    "prompt += \"\\nEnter 'quit' to end the program. \"\n",
    "message = \"\"\n",
    "while message != 'quit':\n",
    "    message = input(prompt)\n",
    "    print(message)"
   ]
  },
  {
   "cell_type": "code",
   "execution_count": 35,
   "metadata": {},
   "outputs": [
    {
     "name": "stdout",
     "output_type": "stream",
     "text": [
      "Write quit or exit to stop this program\n"
     ]
    },
    {
     "name": "stdout",
     "output_type": "stream",
     "text": [
      "Write quit or exit to stop this program\n",
      "Write quit or exit to stop this program\n",
      "Write quit or exit to stop this program\n",
      "Write quit or exit to stop this program\n"
     ]
    },
    {
     "data": {
      "text/plain": [
       "[{'name': 'A', 'education': 'a'},\n",
       " {'name': 'B', 'education': 'b'},\n",
       " {'name': 'C', 'education': 'c'},\n",
       " {'name': 'D', 'education': 'd'}]"
      ]
     },
     "metadata": {},
     "output_type": "display_data"
    }
   ],
   "source": [
    "data : list[dict[str,str]] = []\n",
    "\n",
    "flag : bool = True\n",
    "\n",
    "while flag:\n",
    "    print(\"Write quit or exit to stop this program\")\n",
    "    name : str = input (\"Your Good Name? : \\t\")\n",
    "    education : str = input(\"What is your education \\t\")\n",
    "    \n",
    "    if name in ['exit','quit','close','stop'] or education in ['exit','quit','close','stop']:\n",
    "        flag = False\n",
    "        break\n",
    "    data.append({\"name\":name,\n",
    "                \"education\":education})\n",
    "    \n",
    "display(data)"
   ]
  },
  {
   "cell_type": "code",
   "execution_count": 36,
   "metadata": {},
   "outputs": [
    {
     "name": "stdout",
     "output_type": "stream",
     "text": [
      "Write quit or exit to stop this program\n",
      "Write quit or exit to stop this program\n",
      "Write quit or exit to stop this program\n"
     ]
    },
    {
     "data": {
      "text/plain": [
       "[{'name': 'A', 'education': 'a'},\n",
       " {'name': 'B', 'education': 'b'},\n",
       " {'name': 'stop', 'education': 'stop'}]"
      ]
     },
     "metadata": {},
     "output_type": "display_data"
    }
   ],
   "source": [
    "data : list[dict[str,str]] = []\n",
    "\n",
    "while name != 'stop' or education != 'stop':\n",
    "    print(\"Write quit or exit to stop this program\")\n",
    "    name : str = input (\"Your Good Name? : \\t\")\n",
    "    education : str = input(\"What is your education \\t\")\n",
    "    \n",
    "    data.append({\"name\":name,\n",
    "                \"education\":education})\n",
    "    \n",
    "display(data)"
   ]
  },
  {
   "cell_type": "markdown",
   "metadata": {},
   "source": [
    "# Control\n",
    "* break\n",
    "* continue\n",
    "* pass"
   ]
  },
  {
   "cell_type": "code",
   "execution_count": 37,
   "metadata": {},
   "outputs": [
    {
     "name": "stdout",
     "output_type": "stream",
     "text": [
      "1\n",
      "2\n",
      "3\n",
      "4\n",
      "5\n"
     ]
    }
   ],
   "source": [
    "for i in range(1,11):\n",
    "    print(i)\n",
    "    if i == 5:\n",
    "        break"
   ]
  },
  {
   "cell_type": "code",
   "execution_count": 39,
   "metadata": {},
   "outputs": [
    {
     "name": "stdout",
     "output_type": "stream",
     "text": [
      "2 X 1 = 2\n",
      "2 X 2 = 4\n",
      "2 X 3 = 6\n",
      "2 X 4 = 8\n",
      "2 X 5 = 10\n",
      "2 X 6 = 12\n",
      "2 X 7 = 14\n",
      "2 X 8 = 16\n",
      "2 X 9 = 18\n",
      "2 X 10 = 20\n"
     ]
    }
   ],
   "source": [
    "for i in range(1,11):\n",
    "    print(F\"2 X {i} = {i*2}\")"
   ]
  },
  {
   "cell_type": "code",
   "execution_count": 40,
   "metadata": {},
   "outputs": [
    {
     "name": "stdout",
     "output_type": "stream",
     "text": [
      "1\n",
      "2\n",
      "3\n",
      "4\n",
      "6\n",
      "7\n",
      "8\n",
      "9\n",
      "10\n"
     ]
    }
   ],
   "source": [
    "for i in range(1,11):\n",
    "    if i == 5:\n",
    "        continue\n",
    "    print(i)"
   ]
  },
  {
   "cell_type": "code",
   "execution_count": 41,
   "metadata": {},
   "outputs": [],
   "source": [
    "# Pass\n",
    "\n",
    "for i in range(1,1000):\n",
    "    pass"
   ]
  },
  {
   "cell_type": "code",
   "execution_count": 42,
   "metadata": {},
   "outputs": [],
   "source": [
    "def abc(a : int, b : int) -> int :\n",
    "    pass\n"
   ]
  },
  {
   "cell_type": "code",
   "execution_count": 46,
   "metadata": {},
   "outputs": [
    {
     "name": "stdout",
     "output_type": "stream",
     "text": [
      "\n",
      "Hello, Saeed!\n"
     ]
    }
   ],
   "source": [
    "prompt = \"If you share your name, we can personalize the messages you see.\"\n",
    "prompt += \"\\nWhat is your first name? \"\n",
    "name = input(prompt)\n",
    "print(f\"\\nHello, {name}!\")"
   ]
  },
  {
   "cell_type": "code",
   "execution_count": 48,
   "metadata": {},
   "outputs": [
    {
     "data": {
      "text/plain": [
       "False"
      ]
     },
     "execution_count": 48,
     "metadata": {},
     "output_type": "execute_result"
    }
   ],
   "source": [
    "age : int = int(input(\"How old are your? \"))\n",
    "age >=18"
   ]
  },
  {
   "cell_type": "code",
   "execution_count": 49,
   "metadata": {},
   "outputs": [
    {
     "name": "stdout",
     "output_type": "stream",
     "text": [
      "Verifying user: Candace\n",
      "Verifying user: Brian\n",
      "Verifying user: Alice\n",
      "\n",
      "The following users have been confirmed:\n",
      "Candace\n",
      "Brian\n",
      "Alice\n"
     ]
    }
   ],
   "source": [
    "# Start with users that need to be verified,\n",
    "# and an empty list to hold confirmed users.\n",
    "unconfirmed_users = ['alice', 'brian', 'candace']\n",
    "confirmed_users = []\n",
    "# Verify each user until there are no more unconfirmed users.\n",
    "# Move each verified user into the list of confirmed users.\n",
    "while unconfirmed_users:\n",
    "    current_user = unconfirmed_users.pop()\n",
    "    print(f\"Verifying user: {current_user.title()}\")\n",
    "    confirmed_users.append(current_user)\n",
    "# Display all confirmed users.\n",
    "print(\"\\nThe following users have been confirmed:\")\n",
    "for confirmed_user in confirmed_users:\n",
    "    print(confirmed_user.title())"
   ]
  }
 ],
 "metadata": {
  "kernelspec": {
   "display_name": "python12",
   "language": "python",
   "name": "python3"
  },
  "language_info": {
   "codemirror_mode": {
    "name": "ipython",
    "version": 3
   },
   "file_extension": ".py",
   "mimetype": "text/x-python",
   "name": "python",
   "nbconvert_exporter": "python",
   "pygments_lexer": "ipython3",
   "version": "3.12.0"
  }
 },
 "nbformat": 4,
 "nbformat_minor": 2
}
